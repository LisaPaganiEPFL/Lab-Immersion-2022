{
 "cells": [
  {
   "cell_type": "code",
   "execution_count": 23,
   "metadata": {},
   "outputs": [],
   "source": [
    "from numba_code import *\n",
    "import matplotlib.pyplot as plt\n",
    "plt.style.use('default')"
   ]
  },
  {
   "cell_type": "markdown",
   "metadata": {},
   "source": [
    "# Mutant fate simulation\n",
    "We start with a star graph with 4 demes. Its state is tracked by an array containing the number of mutant and wild-type indivudals that are in each deme. \n",
    "The first entry describes the center (hub), the other describe the leaves.\n",
    "According to our implementation the second deme, which is one of the leaves, is the only one which contains mutant individuals at the beginning of the simulation.\n",
    "\n",
    "For instance, $[[0,100],[10,90],[0,100],[0,100]]$ means:\n",
    "- The center has one mutant and 100 wild-types.\n",
    "- The first leaf has 10 mutants and 90 wild-types.\n",
    "- The remaining leaves have only 100 wild-types."
   ]
  },
  {
   "cell_type": "markdown",
   "metadata": {},
   "source": [
    "## Unweighted amplifier"
   ]
  },
  {
   "cell_type": "markdown",
   "metadata": {},
   "source": [
    "In this section we are focusing on the unweighted amplifier configuration."
   ]
  },
  {
   "cell_type": "markdown",
   "metadata": {},
   "source": [
    "The graph structure and its migration rates are specified through function migration_matrix. For a star, we use function define_star which takes parameters $m_0$ (outgoing migration rate from the center) and $m_I$ (ingoing migration rate in the center). The option \"equal_contribution\" is True if for each deme $i$, $\\sum_j m_{ij}=1$ i.e. all demes contribute equally in average. It is False if for each deme $i$, $\\sum_j m_{ji}=1$ i.e. all demes receive the same contribution in average."
   ]
  },
  {
   "cell_type": "code",
   "execution_count": 24,
   "metadata": {},
   "outputs": [],
   "source": [
    "#Saving dynamics (option save_dynamics=True)\n",
    "save_folder='k/Unweighted/star/10'\n",
    "\n",
    "\n",
    "#Initial state of the graph\n",
    "in_numbers=np.array([[0.,1.5e7],[1.5e4,1.5e7],[0.,1.5e7],[0.,1.5e7]]).astype(np.int64)\n",
    "    \n",
    "#Parameters for the 10% migration, according to paper\n",
    "mI=(1e6/3)/(1e7+1e6)\n",
    "mO=1e6/(1e7+1e6)\n",
    "\n",
    "#Fitness and growth_rate (t), according to paper\n",
    "s=0.2\n",
    "fitnesses=np.array([1+s,1])\n",
    "t=np.log(100)\n",
    "\n",
    "nb_cycles=100\n",
    "nb_sim=10\n",
    "K=int(1.5e7)\n",
    "N_demes=4\n",
    "\n",
    "dilution_std=1.5e6\n",
    "\n",
    "\n",
    "#Migration matrix of the star\n",
    "migration_matrix=define_star(N_demes,mI,mO,equal_contribution=False)"
   ]
  },
  {
   "cell_type": "markdown",
   "metadata": {},
   "source": [
    "'fixation_probability' runs a number of simulations given by parameter 'nb_sim'. For each simulation, it starts with the initial state of the graph, and iterates cycles of growth / dilution, until the mutant is fixed or extinct.  The function returns three numbers :\n",
    "- the average extinction time (computed on trajectories that ended in extinction)\n",
    "- the average fixation time\n",
    "- the ratio of fixations, i.e. probability of fixation\n",
    "\n",
    "'fixation_probability' has an option 'save_dynamics'. If True, it saves the evolution of the state of the graph, for each simulation separately, into a folder specified as argument."
   ]
  },
  {
   "cell_type": "code",
   "execution_count": 25,
   "metadata": {
    "scrolled": false
   },
   "outputs": [
    {
     "name": "stdout",
     "output_type": "stream",
     "text": [
      "Fixation probability on 10 simulations is 1.0, with \n",
      " average extinction time 0 and \n",
      " average fixation time 28.9\n"
     ]
    }
   ],
   "source": [
    "#Fixation probability \n",
    "et, ft, fp = fixation_probability(in_numbers, save_folder, migration_matrix, fitnesses, nb_sim, nb_cycles, t, K, size_follow_numbers=100, print_frequency=1, save_dynamics=True,dilution_std=1.5e6)\n",
    "print(f'Fixation probability on {nb_sim} simulations is {fp}, with \\n average extinction time {et} and \\n average fixation time {ft}')"
   ]
  },
  {
   "cell_type": "code",
   "execution_count": 26,
   "metadata": {},
   "outputs": [
    {
     "name": "stdout",
     "output_type": "stream",
     "text": [
      "Fixation probability on 10 simulations is 1.0, with \n",
      " average extinction time 0 and \n",
      " average fixation time 28.8\n"
     ]
    }
   ],
   "source": [
    "#Saving dynamics (option save_dynamics=True)\n",
    "save_folder='k/Unweighted/star/20'\n",
    "\n",
    "#Parameters for the 10% migration, according to paper\n",
    "mI=(2e6/3)/(1e7+2e6)\n",
    "mO=2e6/(1e7+2e6)\n",
    "\n",
    "#Migration matrix of the star\n",
    "migration_matrix=define_star(N_demes,mI,mO,equal_contribution=False)\n",
    "\n",
    "#Fixation probability \n",
    "et, ft, fp = fixation_probability(in_numbers, save_folder, migration_matrix, fitnesses, nb_sim, nb_cycles, t, K, size_follow_numbers=100, print_frequency=1, save_dynamics=True,dilution_std=dilution_std)\n",
    "print(f'Fixation probability on {nb_sim} simulations is {fp}, with \\n average extinction time {et} and \\n average fixation time {ft}')"
   ]
  },
  {
   "cell_type": "code",
   "execution_count": 27,
   "metadata": {},
   "outputs": [
    {
     "name": "stdout",
     "output_type": "stream",
     "text": [
      "Fixation probability on 10 simulations is 1.0, with \n",
      " average extinction time 0 and \n",
      " average fixation time 29.6\n"
     ]
    }
   ],
   "source": [
    "#Saving dynamics (option save_dynamics=True)\n",
    "save_folder='k/Unweighted/star/30'\n",
    "\n",
    "#Parameters for the 10% migration, according to paper\n",
    "mI=(3e6/3)/(1e7+3e6)\n",
    "mO=3e6/(1e7+3e6)\n",
    "\n",
    "#Migration matrix of the star\n",
    "migration_matrix=define_star(N_demes,mI,mO,equal_contribution=False)\n",
    "\n",
    "#Fixation probability \n",
    "et, ft, fp = fixation_probability(in_numbers, save_folder, migration_matrix, fitnesses, nb_sim, nb_cycles, t, K, size_follow_numbers=100, print_frequency=1, save_dynamics=True,dilution_std=dilution_std)\n",
    "print(f'Fixation probability on {nb_sim} simulations is {fp}, with \\n average extinction time {et} and \\n average fixation time {ft}')"
   ]
  },
  {
   "cell_type": "code",
   "execution_count": 28,
   "metadata": {},
   "outputs": [
    {
     "name": "stdout",
     "output_type": "stream",
     "text": [
      "Fixation probability on 10 simulations is 1.0, with \n",
      " average extinction time 0 and \n",
      " average fixation time 32.9\n"
     ]
    }
   ],
   "source": [
    "#Saving dynamics (option save_dynamics=True)\n",
    "save_folder='k/Unweighted/star/1'\n",
    "\n",
    "#Parameters for the 10% migration, according to paper\n",
    "mI=(1e5/3)/(1e7+1e5)\n",
    "mO=1e5/(1e7+1e5)\n",
    "\n",
    "#Migration matrix of the star\n",
    "migration_matrix=define_star(N_demes,mI,mO,equal_contribution=False)\n",
    "\n",
    "#Fixation probability \n",
    "et, ft, fp = fixation_probability(in_numbers, save_folder, migration_matrix, fitnesses, nb_sim, nb_cycles, t, K, size_follow_numbers=100, print_frequency=1, save_dynamics=True,dilution_std=dilution_std)\n",
    "print(f'Fixation probability on {nb_sim} simulations is {fp}, with \\n average extinction time {et} and \\n average fixation time {ft}')"
   ]
  },
  {
   "cell_type": "code",
   "execution_count": 29,
   "metadata": {},
   "outputs": [
    {
     "name": "stdout",
     "output_type": "stream",
     "text": [
      "Fixation probability on 10 simulations is 1.0, with \n",
      " average extinction time 0 and \n",
      " average fixation time 41.8\n"
     ]
    }
   ],
   "source": [
    "#Saving dynamics (option save_dynamics=True)\n",
    "save_folder='k/Unweighted/star/0.01'\n",
    "\n",
    "#Parameters for the 10% migration, according to paper\n",
    "mI=(1e3/3)/(1e7+1e3)\n",
    "mO=1e3/(1e7+1e3)\n",
    "\n",
    "#Migration matrix of the star\n",
    "migration_matrix=define_star(N_demes,mI,mO,equal_contribution=False)\n",
    "\n",
    "#Fixation probability \n",
    "et, ft, fp = fixation_probability(in_numbers, save_folder, migration_matrix, fitnesses, nb_sim, nb_cycles, t, K, size_follow_numbers=100, print_frequency=1, save_dynamics=True,dilution_std=dilution_std)\n",
    "print(f'Fixation probability on {nb_sim} simulations is {fp}, with \\n average extinction time {et} and \\n average fixation time {ft}')"
   ]
  },
  {
   "cell_type": "code",
   "execution_count": 30,
   "metadata": {},
   "outputs": [
    {
     "name": "stdout",
     "output_type": "stream",
     "text": [
      "Fixation probability on 10 simulations is 1.0, with \n",
      " average extinction time 0 and \n",
      " average fixation time 48.5\n"
     ]
    }
   ],
   "source": [
    "#Saving dynamics (option save_dynamics=True)\n",
    "save_folder='k/Unweighted/star/0.001'\n",
    "\n",
    "#Parameters for the 10% migration, according to paper\n",
    "mI=(1e2/3)/(1e7+1e2)\n",
    "mO=1e2/(1e7+1e2)\n",
    "\n",
    "#Migration matrix of the star\n",
    "migration_matrix=define_star(N_demes,mI,mO,equal_contribution=False)\n",
    "\n",
    "#Fixation probability \n",
    "et, ft, fp = fixation_probability(in_numbers, save_folder, migration_matrix, fitnesses, nb_sim, nb_cycles, t, K, size_follow_numbers=100, print_frequency=1, save_dynamics=True,dilution_std=dilution_std)\n",
    "print(f'Fixation probability on {nb_sim} simulations is {fp}, with \\n average extinction time {et} and \\n average fixation time {ft}')"
   ]
  },
  {
   "cell_type": "markdown",
   "metadata": {},
   "source": [
    "## Unweighted well-mixed"
   ]
  },
  {
   "cell_type": "code",
   "execution_count": 33,
   "metadata": {},
   "outputs": [],
   "source": [
    "#Saving dynamics (option save_dynamics=True)\n",
    "save_folder='k/Unweighted/wm/10'\n",
    "\n",
    "\n",
    "#Initial state of the graph\n",
    "in_numbers=np.array([[0.,1.5e7],[1.5e4,1.5e7],[0.,1.5e7],[0.,1.5e7]]).astype(np.int64)\n",
    "    \n",
    "\n",
    "#Fitness and growth_rate (t), according to paper\n",
    "s=0.2\n",
    "fitnesses=np.array([1+s,1])\n",
    "t=np.log(100)\n",
    "\n",
    "nb_cycles=100\n",
    "nb_sim=10\n",
    "K=int(1.5e7)\n",
    "N_demes=4\n",
    "\n",
    "\n",
    "#Parameters for the 10% migration, according to paper\n",
    "m=(1e6/4)/(1e7+1e6)\n",
    "\n",
    "#Migration matrix of the clique\n",
    "migration_matrix=define_clique(N_demes,m)"
   ]
  },
  {
   "cell_type": "code",
   "execution_count": 34,
   "metadata": {},
   "outputs": [
    {
     "name": "stdout",
     "output_type": "stream",
     "text": [
      "Fixation probability on 10 simulations is 1.0, with \n",
      " average extinction time 0 and \n",
      " average fixation time 28.7\n"
     ]
    }
   ],
   "source": [
    "#Fixation probability \n",
    "et, ft, fp = fixation_probability(in_numbers, save_folder, migration_matrix, fitnesses, nb_sim, nb_cycles, t, K, size_follow_numbers=100, print_frequency=1, save_dynamics=True,dilution_std=dilution_std)\n",
    "print(f'Fixation probability on {nb_sim} simulations is {fp}, with \\n average extinction time {et} and \\n average fixation time {ft}')"
   ]
  },
  {
   "cell_type": "code",
   "execution_count": 35,
   "metadata": {},
   "outputs": [
    {
     "name": "stdout",
     "output_type": "stream",
     "text": [
      "Fixation probability on 10 simulations is 1.0, with \n",
      " average extinction time 0 and \n",
      " average fixation time 28.2\n"
     ]
    }
   ],
   "source": [
    "#Saving dynamics (option save_dynamics=True)\n",
    "save_folder='k/Unweighted/wm/20'\n",
    "\n",
    "#Parameters for the 10% migration, according to paper\n",
    "m=(2e6/4)/(1e7+2e6)\n",
    "\n",
    "#Migration matrix of the clique\n",
    "migration_matrix=define_clique(N_demes,m)\n",
    "\n",
    "#Fixation probability \n",
    "et, ft, fp = fixation_probability(in_numbers, save_folder, migration_matrix, fitnesses, nb_sim, nb_cycles, t, K, size_follow_numbers=100, print_frequency=1, save_dynamics=True,dilution_std=dilution_std)\n",
    "print(f'Fixation probability on {nb_sim} simulations is {fp}, with \\n average extinction time {et} and \\n average fixation time {ft}')"
   ]
  },
  {
   "cell_type": "code",
   "execution_count": 36,
   "metadata": {},
   "outputs": [
    {
     "name": "stdout",
     "output_type": "stream",
     "text": [
      "Fixation probability on 10 simulations is 1.0, with \n",
      " average extinction time 0 and \n",
      " average fixation time 29.6\n"
     ]
    }
   ],
   "source": [
    "#Saving dynamics (option save_dynamics=True)\n",
    "save_folder='k/Unweighted/wm/30'\n",
    "\n",
    "#Parameters for the 10% migration, according to paper\n",
    "m=(3e6/4)/(1e7+3e6)\n",
    "\n",
    "#Migration matrix of the clique\n",
    "migration_matrix=define_clique(N_demes,m)\n",
    "\n",
    "#Fixation probability \n",
    "et, ft, fp = fixation_probability(in_numbers, save_folder, migration_matrix, fitnesses, nb_sim, nb_cycles, t, K, size_follow_numbers=100, print_frequency=1, save_dynamics=True,dilution_std=dilution_std)\n",
    "print(f'Fixation probability on {nb_sim} simulations is {fp}, with \\n average extinction time {et} and \\n average fixation time {ft}')"
   ]
  },
  {
   "cell_type": "code",
   "execution_count": 37,
   "metadata": {},
   "outputs": [
    {
     "name": "stdout",
     "output_type": "stream",
     "text": [
      "Fixation probability on 10 simulations is 1.0, with \n",
      " average extinction time 0 and \n",
      " average fixation time 30.7\n"
     ]
    }
   ],
   "source": [
    "#Saving dynamics (option save_dynamics=True)\n",
    "save_folder='k/Unweighted/wm/1'\n",
    "\n",
    "#Parameters for the 10% migration, according to paper\n",
    "m=(1e5/4)/(1e7+1e5)\n",
    "\n",
    "#Migration matrix of the clique\n",
    "migration_matrix=define_clique(N_demes,m)\n",
    "\n",
    "#Fixation probability \n",
    "et, ft, fp = fixation_probability(in_numbers, save_folder, migration_matrix, fitnesses, nb_sim, nb_cycles, t, K, size_follow_numbers=100, print_frequency=1, save_dynamics=True,dilution_std=dilution_std)\n",
    "print(f'Fixation probability on {nb_sim} simulations is {fp}, with \\n average extinction time {et} and \\n average fixation time {ft}')"
   ]
  },
  {
   "cell_type": "code",
   "execution_count": 38,
   "metadata": {},
   "outputs": [
    {
     "name": "stdout",
     "output_type": "stream",
     "text": [
      "Fixation probability on 10 simulations is 1.0, with \n",
      " average extinction time 0 and \n",
      " average fixation time 36.1\n"
     ]
    }
   ],
   "source": [
    "#Saving dynamics (option save_dynamics=True)\n",
    "save_folder='k/Unweighted/wm/0.01'\n",
    "\n",
    "#Parameters for the 10% migration, according to paper\n",
    "m=(1e3/4)/(1e7+1e3)\n",
    "\n",
    "#Migration matrix of the clique\n",
    "migration_matrix=define_clique(N_demes,m)\n",
    "\n",
    "#Fixation probability \n",
    "et, ft, fp = fixation_probability(in_numbers, save_folder, migration_matrix, fitnesses, nb_sim, nb_cycles, t, K, size_follow_numbers=100, print_frequency=1, save_dynamics=True,dilution_std=dilution_std)\n",
    "print(f'Fixation probability on {nb_sim} simulations is {fp}, with \\n average extinction time {et} and \\n average fixation time {ft}')"
   ]
  },
  {
   "cell_type": "code",
   "execution_count": 39,
   "metadata": {},
   "outputs": [
    {
     "name": "stdout",
     "output_type": "stream",
     "text": [
      "Fixation probability on 10 simulations is 1.0, with \n",
      " average extinction time 0 and \n",
      " average fixation time 38.9\n"
     ]
    }
   ],
   "source": [
    "#Saving dynamics (option save_dynamics=True)\n",
    "save_folder='k/Unweighted/wm/0.001'\n",
    "\n",
    "#Parameters for the 10% migration, according to paper\n",
    "m=(1e2/4)/(1e7+1e2)\n",
    "\n",
    "#Migration matrix of the clique\n",
    "migration_matrix=define_clique(N_demes,m)\n",
    "\n",
    "#Fixation probability \n",
    "et, ft, fp = fixation_probability(in_numbers, save_folder, migration_matrix, fitnesses, nb_sim, nb_cycles, t, K, size_follow_numbers=100, print_frequency=1, save_dynamics=True,dilution_std=dilution_std)\n",
    "print(f'Fixation probability on {nb_sim} simulations is {fp}, with \\n average extinction time {et} and \\n average fixation time {ft}')"
   ]
  },
  {
   "cell_type": "markdown",
   "metadata": {},
   "source": [
    "## Asymmetric well-mixed"
   ]
  },
  {
   "cell_type": "markdown",
   "metadata": {},
   "source": [
    "### 1) High migration rate"
   ]
  },
  {
   "cell_type": "code",
   "execution_count": 40,
   "metadata": {},
   "outputs": [],
   "source": [
    "#Saving dynamics (option save_dynamics=True)\n",
    "save_folder='k/Asymmetric/wm/high'\n",
    "\n",
    "#Parameters for the HIGH migration, according to paper\n",
    "m=1e5/(1e7+4e5)\n",
    "\n",
    "#Migration matrix of the clique\n",
    "migration_matrix=define_clique(N_demes,m)"
   ]
  },
  {
   "cell_type": "code",
   "execution_count": 41,
   "metadata": {},
   "outputs": [
    {
     "name": "stdout",
     "output_type": "stream",
     "text": [
      "Fixation probability on 10 simulations is 1.0, with \n",
      " average extinction time 0 and \n",
      " average fixation time 29.9\n"
     ]
    }
   ],
   "source": [
    "#Fixation probability \n",
    "et, ft, fp = fixation_probability(in_numbers, save_folder, migration_matrix, fitnesses, nb_sim, nb_cycles, t, K, size_follow_numbers=100, print_frequency=1, save_dynamics=True,dilution_std=dilution_std)\n",
    "print(f'Fixation probability on {nb_sim} simulations is {fp}, with \\n average extinction time {et} and \\n average fixation time {ft}')"
   ]
  },
  {
   "cell_type": "markdown",
   "metadata": {},
   "source": [
    "### 2) Low migration rate"
   ]
  },
  {
   "cell_type": "code",
   "execution_count": 42,
   "metadata": {},
   "outputs": [],
   "source": [
    "#Saving dynamics (option save_dynamics=True)\n",
    "save_folder='k/Asymmetric/wm/low'\n",
    "\n",
    "#Parameters for the LOW migration, according to paper\n",
    "m=1e2/(1e7+4e2)\n",
    "\n",
    "#Migration matrix of the clique\n",
    "migration_matrix=define_clique(N_demes,m)"
   ]
  },
  {
   "cell_type": "code",
   "execution_count": 43,
   "metadata": {
    "scrolled": true
   },
   "outputs": [
    {
     "name": "stdout",
     "output_type": "stream",
     "text": [
      "Fixation probability on 10 simulations is 1.0, with \n",
      " average extinction time 0 and \n",
      " average fixation time 38.9\n"
     ]
    }
   ],
   "source": [
    "#Fixation probability \n",
    "et, ft, fp = fixation_probability(in_numbers, save_folder, migration_matrix, fitnesses, nb_sim, nb_cycles, t, K, size_follow_numbers=100, print_frequency=1, save_dynamics=True,dilution_std=dilution_std)\n",
    "print(f'Fixation probability on {nb_sim} simulations is {fp}, with \\n average extinction time {et} and \\n average fixation time {ft}')"
   ]
  },
  {
   "cell_type": "markdown",
   "metadata": {},
   "source": [
    "## Asymmetric OUT = IN"
   ]
  },
  {
   "cell_type": "markdown",
   "metadata": {},
   "source": [
    "### 1) High migration rate"
   ]
  },
  {
   "cell_type": "code",
   "execution_count": 44,
   "metadata": {},
   "outputs": [],
   "source": [
    "#Saving dynamics (option save_dynamics=True)\n",
    "save_folder='k/Asymmetric/balanced/high'\n",
    "\n",
    "#Parameters for the HIGH migration, according to paper\n",
    "mI=1e5/(1e7+1e5)\n",
    "mO=1e5/(1e7+3e5)\n",
    "\n",
    "\n",
    "#Migration matrix of the star\n",
    "migration_matrix=define_star(N_demes,mI,mO,equal_contribution=True)"
   ]
  },
  {
   "cell_type": "code",
   "execution_count": 45,
   "metadata": {},
   "outputs": [
    {
     "name": "stdout",
     "output_type": "stream",
     "text": [
      "Fixation probability on 10 simulations is 1.0, with \n",
      " average extinction time 0 and \n",
      " average fixation time 31.8\n"
     ]
    }
   ],
   "source": [
    "nb_sim=10\n",
    "#Fixation probability \n",
    "et, ft, fp = fixation_probability(in_numbers, save_folder, migration_matrix, fitnesses, nb_sim, nb_cycles, t, K, size_follow_numbers=100, print_frequency=1, save_dynamics=True,dilution_std=dilution_std)\n",
    "print(f'Fixation probability on {nb_sim} simulations is {fp}, with \\n average extinction time {et} and \\n average fixation time {ft}')"
   ]
  },
  {
   "cell_type": "markdown",
   "metadata": {},
   "source": [
    "2) Low migration rate"
   ]
  },
  {
   "cell_type": "code",
   "execution_count": 46,
   "metadata": {},
   "outputs": [],
   "source": [
    "#Saving dynamics (option save_dynamics=True)\n",
    "save_folder='k/Asymmetric/balanced/low'\n",
    "\n",
    "#Parameters for the HIGH migration, according to paper\n",
    "mI=1e2/(1e7+1e2)\n",
    "mO=1e2/(1e7+3e2)\n",
    "\n",
    "\n",
    "#Migration matrix of the star\n",
    "migration_matrix=define_star(N_demes,mI,mO,equal_contribution=True)"
   ]
  },
  {
   "cell_type": "code",
   "execution_count": 47,
   "metadata": {},
   "outputs": [
    {
     "name": "stdout",
     "output_type": "stream",
     "text": [
      "Fixation probability on 10 simulations is 1.0, with \n",
      " average extinction time 0 and \n",
      " average fixation time 46.0\n"
     ]
    }
   ],
   "source": [
    "nb_sim=10\n",
    "#Fixation probability \n",
    "et, ft, fp = fixation_probability(in_numbers, save_folder, migration_matrix, fitnesses, nb_sim, nb_cycles, t, K, size_follow_numbers=100, print_frequency=1, save_dynamics=True,dilution_std=dilution_std)\n",
    "print(f'Fixation probability on {nb_sim} simulations is {fp}, with \\n average extinction time {et} and \\n average fixation time {ft}')"
   ]
  },
  {
   "cell_type": "markdown",
   "metadata": {},
   "source": [
    "## Asymmetric OUT > IN"
   ]
  },
  {
   "cell_type": "markdown",
   "metadata": {},
   "source": [
    "### 1) High migration rate"
   ]
  },
  {
   "cell_type": "code",
   "execution_count": 48,
   "metadata": {},
   "outputs": [],
   "source": [
    "#Saving dynamics (option save_dynamics=True)\n",
    "save_folder='k/Asymmetric/out/high'\n",
    "\n",
    "#Parameters for the HIGH migration, according to paper\n",
    "mI=1e5/(1e7+3e5)\n",
    "mO=3e5/(1e7+3e5)\n",
    "\n",
    "\n",
    "#Migration matrix of the star\n",
    "migration_matrix=define_star(N_demes,mI,mO,equal_contribution=False)"
   ]
  },
  {
   "cell_type": "code",
   "execution_count": 49,
   "metadata": {},
   "outputs": [
    {
     "name": "stdout",
     "output_type": "stream",
     "text": [
      "Fixation probability on 10 simulations is 1.0, with \n",
      " average extinction time 0 and \n",
      " average fixation time 31.1\n"
     ]
    }
   ],
   "source": [
    "nb_sim=10\n",
    "#Fixation probability \n",
    "et, ft, fp = fixation_probability(in_numbers, save_folder, migration_matrix, fitnesses, nb_sim, nb_cycles, t, K, size_follow_numbers=100, print_frequency=1, save_dynamics=True,dilution_std=dilution_std)\n",
    "print(f'Fixation probability on {nb_sim} simulations is {fp}, with \\n average extinction time {et} and \\n average fixation time {ft}')"
   ]
  },
  {
   "cell_type": "markdown",
   "metadata": {},
   "source": [
    "### 2) Low migration rate"
   ]
  },
  {
   "cell_type": "code",
   "execution_count": 50,
   "metadata": {},
   "outputs": [],
   "source": [
    "#Saving dynamics (option save_dynamics=True)\n",
    "save_folder='k/Asymmetric/out/low'\n",
    "\n",
    "#Parameters for the LOW migration, according to paper\n",
    "mI=1e2/(1e7+3e2)\n",
    "mO=3e2/(1e7+3e2)\n",
    "\n",
    "#Migration matrix of the star\n",
    "migration_matrix=define_star(N_demes,mI,mO,equal_contribution=False)"
   ]
  },
  {
   "cell_type": "code",
   "execution_count": 51,
   "metadata": {},
   "outputs": [
    {
     "name": "stdout",
     "output_type": "stream",
     "text": [
      "Fixation probability on 10 simulations is 1.0, with \n",
      " average extinction time 0 and \n",
      " average fixation time 45.2\n"
     ]
    }
   ],
   "source": [
    "nb_sim=10\n",
    "#Fixation probability \n",
    "et, ft, fp = fixation_probability(in_numbers, save_folder, migration_matrix, fitnesses, nb_sim, nb_cycles, t, K, size_follow_numbers=100, print_frequency=1, save_dynamics=True,dilution_std=dilution_std)\n",
    "print(f'Fixation probability on {nb_sim} simulations is {fp}, with \\n average extinction time {et} and \\n average fixation time {ft}')"
   ]
  },
  {
   "cell_type": "markdown",
   "metadata": {},
   "source": [
    "## Asymmetric IN > OUT"
   ]
  },
  {
   "cell_type": "markdown",
   "metadata": {},
   "source": [
    "### 1) High migration rate"
   ]
  },
  {
   "cell_type": "code",
   "execution_count": 52,
   "metadata": {},
   "outputs": [],
   "source": [
    "#Saving dynamics (option save_dynamics=True)\n",
    "save_folder='k/Asymmetric/in/high'\n",
    "\n",
    "#Parameters for the HIGH migration, according to paper\n",
    "mI=3e5/(1e7+3e5)\n",
    "mO=1e5/(1e7+3e5)\n",
    "\n",
    "#Migration matrix of the star\n",
    "migration_matrix=define_star(N_demes,mI,mO,equal_contribution=True)"
   ]
  },
  {
   "cell_type": "code",
   "execution_count": 53,
   "metadata": {},
   "outputs": [
    {
     "name": "stdout",
     "output_type": "stream",
     "text": [
      "Fixation probability on 10 simulations is 1.0, with \n",
      " average extinction time 0 and \n",
      " average fixation time 31.4\n"
     ]
    }
   ],
   "source": [
    "nb_sim=10\n",
    "#Fixation probability \n",
    "et, ft, fp = fixation_probability(in_numbers, save_folder, migration_matrix, fitnesses, nb_sim, nb_cycles, t, K, size_follow_numbers=100, print_frequency=1, save_dynamics=True,dilution_std=dilution_std)\n",
    "print(f'Fixation probability on {nb_sim} simulations is {fp}, with \\n average extinction time {et} and \\n average fixation time {ft}')"
   ]
  },
  {
   "cell_type": "markdown",
   "metadata": {},
   "source": [
    "### 2) Low migration rate"
   ]
  },
  {
   "cell_type": "code",
   "execution_count": 54,
   "metadata": {},
   "outputs": [],
   "source": [
    "#Saving dynamics (option save_dynamics=True)\n",
    "save_folder='k/Asymmetric/in/low'\n",
    "\n",
    "#Parameters for the LOW migration, according to paper\n",
    "mI=3e2/(1e7+3e2)\n",
    "mO=1e2/(1e7+3e2)\n",
    "\n",
    "#Migration matrix of the star\n",
    "migration_matrix=define_star(N_demes,mI,mO,equal_contribution=True)"
   ]
  },
  {
   "cell_type": "code",
   "execution_count": 55,
   "metadata": {},
   "outputs": [
    {
     "name": "stdout",
     "output_type": "stream",
     "text": [
      "Fixation probability on 10 simulations is 1.0, with \n",
      " average extinction time 0 and \n",
      " average fixation time 45.2\n"
     ]
    }
   ],
   "source": [
    "nb_sim=10\n",
    "#Fixation probability \n",
    "et, ft, fp = fixation_probability(in_numbers, save_folder, migration_matrix, fitnesses, nb_sim, nb_cycles, t, K, size_follow_numbers=100, print_frequency=1, save_dynamics=True,dilution_std=dilution_std)\n",
    "print(f'Fixation probability on {nb_sim} simulations is {fp}, with \\n average extinction time {et} and \\n average fixation time {ft}')"
   ]
  },
  {
   "cell_type": "markdown",
   "metadata": {},
   "source": [
    "# Figure 5"
   ]
  },
  {
   "cell_type": "code",
   "execution_count": 57,
   "metadata": {},
   "outputs": [],
   "source": [
    "def ratios(fix, x, deme):\n",
    "    \n",
    "    #Number of mutants in deme in the first x steps of the dynamics\n",
    "    deme_mutant=fix[:x,deme,0]\n",
    "\n",
    "    #Number of wild-types in deme in the first x steps of the dynamics\n",
    "    deme_WT=fix[:x,deme,1]\n",
    "\n",
    "    #Ratio of mutant in deme in the first x steps of the dynamics\n",
    "    deme_ratioM=deme_mutant/(deme_WT+deme_mutant)\n",
    "    \n",
    "    return deme_ratioM\n",
    "\n",
    "\n",
    "def extract(path, x, deme):\n",
    "    \n",
    "    deme_dynamics = np.zeros([10,x])\n",
    "    \n",
    "    for i in range(10):\n",
    "        path_sub = path + '/fix_' + str(i+1) + '.npz'\n",
    "        fix = np.load(path_sub)['arr_0']\n",
    "        deme_dynamics[i] = ratios(fix,x,deme)\n",
    "    \n",
    "    return np.mean(deme_dynamics,axis=0)\n",
    "\n",
    "def extracts(path,x):\n",
    "    return extract(path,x,0),extract(path,x,1),extract(path,x,2),extract(path,x,3)"
   ]
  },
  {
   "cell_type": "code",
   "execution_count": 58,
   "metadata": {},
   "outputs": [],
   "source": [
    "x=10\n",
    "#Path to the asymmetric well-mixed configuration with high migration rate\n",
    "path = \"k/Asymmetric/wm/high\"\n",
    "#Ratio of mutant in demes in the first x steps of the dynamics\n",
    "high_wm = extracts(path,x)\n",
    "\n",
    "\n",
    "path = \"k/Asymmetric/wm/low\"\n",
    "low_wm = extracts(path,x)\n",
    "\n",
    "\n",
    "path = \"k/Asymmetric/out/high\"\n",
    "high_out = extracts(path,x)\n",
    "path = \"k/Asymmetric/out/low\"\n",
    "low_out = extracts(path,x)\n",
    "\n",
    "path = \"k/Asymmetric/in/high\"\n",
    "high_in = extracts(path,x)\n",
    "path = \"k/Asymmetric/in/low\"\n",
    "low_in = extracts(path,x)\n",
    "\n",
    "path = \"k/Asymmetric/balanced/high\"\n",
    "high_star = extracts(path,x)\n",
    "path = \"k/Asymmetric/balanced/low\"\n",
    "low_star = extracts(path,x)"
   ]
  },
  {
   "cell_type": "code",
   "execution_count": 59,
   "metadata": {},
   "outputs": [],
   "source": [
    "def p(a,array,clr,x=False):\n",
    "    \n",
    "    if(x):\n",
    "        a.plot([1,6,9],[array[1],array[6],array[9]],'-ok',color=clr)\n",
    "    else:\n",
    "        a.plot([1,4,7],[array[1],array[4],array[7]],'-ok',color=clr)\n",
    "    \n",
    "    return\n",
    "\n",
    "def pl(a,array1,array2,array3,array4,clr1,clr2,clr3,clr4,x=False):\n",
    "    \n",
    "    p(a,array1,clr1,x)\n",
    "    p(a,array2,clr2,x)\n",
    "    p(a,array3,clr3,x)\n",
    "    p(a,array4,clr4,x)\n",
    "    \n",
    "    return"
   ]
  },
  {
   "cell_type": "code",
   "execution_count": 60,
   "metadata": {},
   "outputs": [
    {
     "name": "stderr",
     "output_type": "stream",
     "text": [
      "C:\\Users\\lisap\\AppData\\Local\\Temp/ipykernel_14564/477771782.py:6: UserWarning: color is redundantly defined by the 'color' keyword argument and the fmt string \"-ok\" (-> color='k'). The keyword argument will take precedence.\n",
      "  a.plot([1,4,7],[array[1],array[4],array[7]],'-ok',color=clr)\n",
      "C:\\Users\\lisap\\AppData\\Local\\Temp/ipykernel_14564/477771782.py:4: UserWarning: color is redundantly defined by the 'color' keyword argument and the fmt string \"-ok\" (-> color='k'). The keyword argument will take precedence.\n",
      "  a.plot([1,6,9],[array[1],array[6],array[9]],'-ok',color=clr)\n"
     ]
    },
    {
     "data": {
      "image/png": "[encoded data removed]",
      "text/plain": [
       "<Figure size 1000x800 with 8 Axes>"
      ]
     },
     "metadata": {},
     "output_type": "display_data"
    }
   ],
   "source": [
    "fig, ax = plt.subplots(4,2,figsize= (10,8), sharey = True, sharex = True)\n",
    "\n",
    "center = 'darkviolet'\n",
    "leaf1 = 'turquoise'\n",
    "leaf2 = 'orange'\n",
    "leaf3 = 'red'\n",
    "\n",
    "\n",
    "\n",
    "pl(ax[0,0],high_star[0],high_star[1],high_star[2],high_star[3],center,leaf1,leaf2,leaf3)\n",
    "pl(ax[0,1],low_star[0],low_star[1],low_star[2],low_star[3],center,leaf1,leaf2,leaf3,True)\n",
    "pl(ax[1,0],high_out[0],high_out[1],high_out[2],high_out[3],center,leaf1,leaf2,leaf3)\n",
    "pl(ax[1,1],low_out[0],low_out[1],low_out[2],low_out[3],center,leaf1,leaf2,leaf3,True)\n",
    "pl(ax[2,0],high_in[0],high_in[1],high_in[2],high_in[3],center,leaf1,leaf2,leaf3)\n",
    "pl(ax[2,1],low_in[0],low_in[1],low_in[2],low_in[3],center,leaf1,leaf2,leaf3,True)\n",
    "pl(ax[3,0],high_wm[0],high_wm[1],high_wm[2],high_wm[3],center,leaf1,leaf2,leaf3)\n",
    "pl(ax[3,1],low_wm[0],low_wm[1],low_wm[2],low_wm[3],center,leaf1,leaf2,leaf3,True)\n",
    "\n",
    "\n",
    "\n",
    "ax[0, 0].set_title('OUT = IN, high')\n",
    "ax[0, 1].set_title('OUT = IN, low')\n",
    "ax[1, 0].set_title('OUT > IN, high')\n",
    "ax[1, 1].set_title('OUT > IN, low')\n",
    "ax[2, 0].set_title('IN > OUT, high')\n",
    "ax[2, 1].set_title('IN > OUT, low')\n",
    "ax[3, 0].set_title('Well-mixed, high')\n",
    "ax[3, 1].set_title('Well-mixed, low')\n",
    "    \n",
    "fig.tight_layout()\n",
    "\n",
    "fig.text(0.45,0, \"Dilution step\")\n",
    "fig.text(0,0.45, \"Mutant ratio\", rotation = 90)\n",
    "plt.show()"
   ]
  },
  {
   "cell_type": "markdown",
   "metadata": {},
   "source": [
    "# Figure 2"
   ]
  },
  {
   "cell_type": "code",
   "execution_count": 61,
   "metadata": {},
   "outputs": [],
   "source": [
    "def ratio(fix, x):\n",
    "    \n",
    "    #Number of mutants in deme 0 in the first x steps of the dynamics\n",
    "    center_mutant=fix[:x,0,0]\n",
    "    \n",
    "    leaf1_mutant=fix[:x,1,0]\n",
    "    leaf2_mutant=fix[:x,2,0]\n",
    "    leaf3_mutant=fix[:x,3,0]\n",
    "    \n",
    "    mutant = center_mutant + leaf1_mutant + leaf2_mutant + leaf3_mutant\n",
    "\n",
    "    #Number of wild-types in deme 0 in the first x steps of the dynamics\n",
    "    center_WT=fix[:x,0,1]\n",
    "    \n",
    "    leaf1_WT=fix[:x,1,1]\n",
    "    leaf2_WT=fix[:x,2,1]\n",
    "    leaf3_WT=fix[:x,3,1]\n",
    "    \n",
    "    WT = center_WT + leaf1_WT + leaf2_WT + leaf3_WT\n",
    "    \n",
    "\n",
    "    #Ratio of mutant in all population in the first x steps of the dynamics\n",
    "    ratioM=mutant/(WT+mutant)\n",
    "    \n",
    "    return ratioM\n",
    "\n",
    "\n",
    "def extract(path, x):\n",
    "    \n",
    "    ratios = np.zeros([10,x])\n",
    "    \n",
    "    for i in range(10):\n",
    "        path_sub = path + '/fix_' + str(i+1) + '.npz'\n",
    "        fix = np.load(path_sub)['arr_0']\n",
    "        ratios[i] = ratio(fix,x)\n",
    "    \n",
    "    return np.mean(ratios,axis=0)"
   ]
  },
  {
   "cell_type": "code",
   "execution_count": 62,
   "metadata": {},
   "outputs": [],
   "source": [
    "x=10\n",
    "path='k/Unweighted/star/10'\n",
    "star_10 = extract(path,x)\n",
    "path='k/Unweighted/star/20'\n",
    "star_20 = extract(path,x)\n",
    "path='k/Unweighted/star/30'\n",
    "star_30 = extract(path,x)\n",
    "path='k/Unweighted/star/1'\n",
    "star_1 = extract(path,x)\n",
    "path='k/Unweighted/star/0.01'\n",
    "star_0_01 = extract(path,x)\n",
    "path='k/Unweighted/star/0.001'\n",
    "star_0_001 = extract(path,x)\n",
    "\n",
    "path='k/Unweighted/wm/10'\n",
    "wm_10 = extract(path,x)\n",
    "path='k/Unweighted/wm/20'\n",
    "wm_20 = extract(path,x)\n",
    "path='k/Unweighted/wm/30'\n",
    "wm_30 = extract(path,x)\n",
    "path='k/Unweighted/wm/1'\n",
    "wm_1 = extract(path,x)\n",
    "path='k/Unweighted/wm/0.01'\n",
    "wm_0_01 = extract(path,x)\n",
    "path='k/Unweighted/wm/0.001'\n",
    "wm_0_001 = extract(path,x)"
   ]
  },
  {
   "cell_type": "code",
   "execution_count": 63,
   "metadata": {},
   "outputs": [
    {
     "data": {
      "image/png": "[encoded data removed]",
      "text/plain": [
       "<Figure size 800x600 with 6 Axes>"
      ]
     },
     "metadata": {},
     "output_type": "display_data"
    }
   ],
   "source": [
    "fig, ax = plt.subplots(3,2,figsize= (8,6), sharey = True, sharex = True)\n",
    "\n",
    "\n",
    "ax[0, 0].plot(np.arange(1,x,1),star_30[1:x], color='darkviolet', label='Star')\n",
    "ax[0, 0].plot(np.arange(1,x,1),wm_30[1:x], color='orange', label='WM')\n",
    "ax[0, 0].set_title('30% migration')\n",
    "\n",
    "ax[0, 1].plot(np.arange(1,x,1),star_20[1:x], color='darkviolet')\n",
    "ax[0, 1].plot(np.arange(1,x,1),wm_20[1:x], color='orange')\n",
    "ax[0, 1].set_title('20% migration')\n",
    "\n",
    "ax[1, 0].plot(np.arange(1,x,1),star_10[1:x], color='darkviolet')\n",
    "ax[1, 0].plot(np.arange(1,x,1),wm_10[1:x], color='orange')\n",
    "ax[1, 0].set_title('10% migration')\n",
    "\n",
    "ax[1, 1].plot(np.arange(1,x,1),star_1[1:x], color='darkviolet')\n",
    "ax[1, 1].plot(np.arange(1,x,1),wm_1[1:x], color='orange')\n",
    "ax[1, 1].set_title('1% migration')\n",
    "\n",
    "ax[2, 0].plot(np.arange(1,x,1),star_0_01[1:x], color='darkviolet')\n",
    "ax[2, 0].plot(np.arange(1,x,1),wm_0_01[1:x], color='orange')\n",
    "ax[2, 0].set_title('0.01% migration')\n",
    "\n",
    "ax[2, 1].plot(np.arange(1,x,1),star_0_001[1:x], color='darkviolet')\n",
    "ax[2, 1].plot(np.arange(1,x,1),wm_0_001[1:x], color='orange')\n",
    "ax[2, 1].set_title('0.001% migration')\n",
    "    \n",
    "fig.tight_layout()\n",
    "\n",
    "fig.text(0.45,-0.05, \"Dilution step\")\n",
    "fig.text(-0.05,0.45, \"Mutant ratio\", rotation = 90)\n",
    "fig.legend()\n",
    "fig.savefig('figure2zoom.pdf',format='pdf')\n",
    "plt.show()"
   ]
  }
 ],
 "metadata": {
  "kernelspec": {
   "display_name": "Python 3 (ipykernel)",
   "language": "python",
   "name": "python3"
  },
  "language_info": {
   "codemirror_mode": {
    "name": "ipython",
    "version": 3
   },
   "file_extension": ".py",
   "mimetype": "text/x-python",
   "name": "python",
   "nbconvert_exporter": "python",
   "pygments_lexer": "ipython3",
   "version": "3.8.12"
  }
 },
 "nbformat": 4,
 "nbformat_minor": 2
}
