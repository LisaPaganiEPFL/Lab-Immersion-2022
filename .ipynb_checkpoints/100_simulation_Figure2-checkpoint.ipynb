{
 "cells": [
  {
   "cell_type": "code",
   "execution_count": 1,
   "metadata": {},
   "outputs": [],
   "source": [
    "from numba_code import *\n",
    "import matplotlib.pyplot as plt\n",
    "plt.style.use('default')"
   ]
  },
  {
   "cell_type": "markdown",
   "metadata": {},
   "source": [
    "# Extracting saved dynamics"
   ]
  },
  {
   "cell_type": "markdown",
   "metadata": {},
   "source": [
    "Useful functions to extract the dynamic"
   ]
  },
  {
   "cell_type": "code",
   "execution_count": 2,
   "metadata": {},
   "outputs": [],
   "source": [
    "def ratio(fix, x):\n",
    "    \n",
    "    #Number of mutants in deme 0 in the first x steps of the dynamics\n",
    "    center_mutant=fix[:x,0,0]\n",
    "    \n",
    "    leaf1_mutant=fix[:x,1,0]\n",
    "    leaf2_mutant=fix[:x,2,0]\n",
    "    leaf3_mutant=fix[:x,3,0]\n",
    "    \n",
    "    mutant = center_mutant + leaf1_mutant + leaf2_mutant + leaf3_mutant\n",
    "\n",
    "    #Number of wild-types in deme 0 in the first x steps of the dynamics\n",
    "    center_WT=fix[:x,0,1]\n",
    "    \n",
    "    leaf1_WT=fix[:x,1,1]\n",
    "    leaf2_WT=fix[:x,2,1]\n",
    "    leaf3_WT=fix[:x,3,1]\n",
    "    \n",
    "    WT = center_WT + leaf1_WT + leaf2_WT + leaf3_WT\n",
    "    \n",
    "\n",
    "    #Ratio of mutant in all population in the first x steps of the dynamics\n",
    "    ratioM=mutant/(WT+mutant)\n",
    "    \n",
    "    return ratioM\n",
    "\n",
    "\n",
    "def extract(path, x):\n",
    "    \n",
    "    ratios = np.zeros([100,x])\n",
    "    \n",
    "    for i in range(100):\n",
    "        path_sub = path + '/fix_' + str(i+1) + '.npz'\n",
    "        fix = np.load(path_sub)['arr_0']\n",
    "        ratios[i] = ratio(fix,x)\n",
    "    \n",
    "    return ratios"
   ]
  },
  {
   "cell_type": "markdown",
   "metadata": {},
   "source": [
    "## Unweighted well-mixed configuration"
   ]
  },
  {
   "cell_type": "markdown",
   "metadata": {},
   "source": [
    "30%"
   ]
  },
  {
   "cell_type": "code",
   "execution_count": 4,
   "metadata": {},
   "outputs": [],
   "source": [
    "#Path to the asymmetric well-mixed configuration with 30% migration rate\n",
    "path = \"Unweighted/Well-mixed/30\"\n",
    "\n",
    "x=40\n",
    "\n",
    "#Ratio of mutant in demes in the first x steps of the dynamics\n",
    "well_mixed_30_ratioM = extract(path, x)\n",
    "\n",
    "#Statistic\n",
    "well_mixed_30_ratioM_mean = np.mean(well_mixed_30_ratioM, axis= 0)\n",
    "well_mixed_30_ratioM_std = np.std(well_mixed_30_ratioM, axis= 0)"
   ]
  },
  {
   "cell_type": "markdown",
   "metadata": {},
   "source": [
    "20%"
   ]
  },
  {
   "cell_type": "code",
   "execution_count": 5,
   "metadata": {},
   "outputs": [],
   "source": [
    "#Path to the asymmetric well-mixed configuration with 20% migration rate\n",
    "path = \"Unweighted/Well-mixed/20\"\n",
    "\n",
    "x=40\n",
    "\n",
    "#Ratio of mutant in demes in the first x steps of the dynamics\n",
    "well_mixed_20_ratioM = extract(path, x)\n",
    "\n",
    "#Statistic\n",
    "well_mixed_20_ratioM_mean = np.mean(well_mixed_20_ratioM, axis= 0)\n",
    "well_mixed_20_ratioM_std = np.std(well_mixed_20_ratioM, axis= 0)"
   ]
  },
  {
   "cell_type": "markdown",
   "metadata": {},
   "source": [
    "10%"
   ]
  },
  {
   "cell_type": "code",
   "execution_count": 6,
   "metadata": {},
   "outputs": [],
   "source": [
    "#Path to the asymmetric well-mixed configuration with 10% migration rate\n",
    "path = \"Unweighted/Well-mixed/10\"\n",
    "\n",
    "x=40\n",
    "\n",
    "#Ratio of mutant in demes in the first x steps of the dynamics\n",
    "well_mixed_10_ratioM = extract(path, x)\n",
    "\n",
    "#Statistic\n",
    "well_mixed_10_ratioM_mean = np.mean(well_mixed_10_ratioM, axis= 0)\n",
    "well_mixed_10_ratioM_std = np.std(well_mixed_10_ratioM, axis= 0)"
   ]
  },
  {
   "cell_type": "markdown",
   "metadata": {},
   "source": [
    "1%"
   ]
  },
  {
   "cell_type": "code",
   "execution_count": 7,
   "metadata": {},
   "outputs": [],
   "source": [
    "#Path to the asymmetric well-mixed configuration with 1% migration rate\n",
    "path = \"Unweighted/Well-mixed/1\"\n",
    "\n",
    "x=40\n",
    "\n",
    "#Ratio of mutant in demes in the first x steps of the dynamics\n",
    "well_mixed_1_ratioM = extract(path, x)\n",
    "\n",
    "#Statistic\n",
    "well_mixed_1_ratioM_mean = np.mean(well_mixed_1_ratioM, axis= 0)\n",
    "well_mixed_1_ratioM_std = np.std(well_mixed_1_ratioM, axis= 0)"
   ]
  },
  {
   "cell_type": "markdown",
   "metadata": {},
   "source": [
    "0.01%"
   ]
  },
  {
   "cell_type": "code",
   "execution_count": 8,
   "metadata": {},
   "outputs": [],
   "source": [
    "#Path to the asymmetric well-mixed configuration with 0.01% migration rate\n",
    "path = \"Unweighted/Well-mixed/0.01\"\n",
    "\n",
    "x=40\n",
    "\n",
    "#Ratio of mutant in demes in the first x steps of the dynamics\n",
    "well_mixed_001_ratioM = extract(path, x)\n",
    "\n",
    "#Statistic\n",
    "well_mixed_001_ratioM_mean = np.mean(well_mixed_001_ratioM, axis= 0)\n",
    "well_mixed_001_ratioM_std = np.std(well_mixed_001_ratioM, axis= 0)"
   ]
  },
  {
   "cell_type": "markdown",
   "metadata": {},
   "source": [
    "0.001%"
   ]
  },
  {
   "cell_type": "code",
   "execution_count": 9,
   "metadata": {},
   "outputs": [],
   "source": [
    "#Path to the asymmetric well-mixed configuration with 0.001% migration rate\n",
    "path = \"Unweighted/Well-mixed/0.001\"\n",
    "\n",
    "x=40\n",
    "\n",
    "#Ratio of mutant in demes in the first x steps of the dynamics\n",
    "well_mixed_0001_ratioM = extract(path, x)\n",
    "\n",
    "#Statistic\n",
    "well_mixed_0001_ratioM_mean = np.mean(well_mixed_0001_ratioM, axis= 0)\n",
    "well_mixed_0001_ratioM_std = np.std(well_mixed_0001_ratioM, axis= 0)"
   ]
  },
  {
   "cell_type": "markdown",
   "metadata": {},
   "source": [
    "## Unweighted amplifier configuration"
   ]
  },
  {
   "cell_type": "markdown",
   "metadata": {},
   "source": [
    "30%"
   ]
  },
  {
   "cell_type": "code",
   "execution_count": 11,
   "metadata": {},
   "outputs": [],
   "source": [
    "#Path to the asymmetric well-mixed configuration with 30% migration rate\n",
    "path = \"Unweighted/Amplifier/30\"\n",
    "\n",
    "x=40\n",
    "\n",
    "#Ratio of mutant in demes in the first x steps of the dynamics\n",
    "star_30_ratioM = extract(path, x)\n",
    "\n",
    "#Statistic\n",
    "star_30_ratioM_mean = np.mean(star_30_ratioM, axis= 0)\n",
    "star_30_ratioM_std = np.std(star_30_ratioM, axis= 0)"
   ]
  },
  {
   "cell_type": "markdown",
   "metadata": {},
   "source": [
    "20%"
   ]
  },
  {
   "cell_type": "code",
   "execution_count": 13,
   "metadata": {},
   "outputs": [],
   "source": [
    "#Path to the asymmetric well-mixed configuration with 20% migration rate\n",
    "path = \"Unweighted/Amplifier/20\"\n",
    "\n",
    "x=40\n",
    "\n",
    "#Ratio of mutant in demes in the first x steps of the dynamics\n",
    "star_20_ratioM = extract(path, x)\n",
    "\n",
    "#Statistic\n",
    "star_20_ratioM_mean = np.mean(star_20_ratioM, axis= 0)\n",
    "star_20_ratioM_std = np.std(star_20_ratioM, axis= 0)"
   ]
  },
  {
   "cell_type": "markdown",
   "metadata": {},
   "source": [
    "10%"
   ]
  },
  {
   "cell_type": "code",
   "execution_count": 14,
   "metadata": {},
   "outputs": [],
   "source": [
    "#Path to the asymmetric well-mixed configuration with 10% migration rate\n",
    "path = \"Unweighted/Amplifier/10\"\n",
    "\n",
    "x=40\n",
    "\n",
    "#Ratio of mutant in demes in the first x steps of the dynamics\n",
    "star_10_ratioM = extract(path, x)\n",
    "\n",
    "#Statistic\n",
    "star_10_ratioM_mean = np.mean(star_10_ratioM, axis= 0)\n",
    "star_10_ratioM_std = np.std(star_10_ratioM, axis= 0)"
   ]
  },
  {
   "cell_type": "markdown",
   "metadata": {},
   "source": [
    "1%"
   ]
  },
  {
   "cell_type": "code",
   "execution_count": 15,
   "metadata": {},
   "outputs": [],
   "source": [
    "#Path to the asymmetric well-mixed configuration with 10% migration rate\n",
    "path = \"Unweighted/Amplifier/1\"\n",
    "\n",
    "x=40\n",
    "\n",
    "#Ratio of mutant in demes in the first x steps of the dynamics\n",
    "star_1_ratioM = extract(path, x)\n",
    "\n",
    "#Statistic\n",
    "star_1_ratioM_mean = np.mean(star_1_ratioM, axis= 0)\n",
    "star_1_ratioM_std = np.std(star_1_ratioM, axis= 0)"
   ]
  },
  {
   "cell_type": "markdown",
   "metadata": {},
   "source": [
    "0.01%"
   ]
  },
  {
   "cell_type": "code",
   "execution_count": 16,
   "metadata": {},
   "outputs": [],
   "source": [
    "#Path to the asymmetric well-mixed configuration with 10% migration rate\n",
    "path = \"Unweighted/Amplifier/0.01\"\n",
    "\n",
    "x=40\n",
    "\n",
    "#Ratio of mutant in demes in the first x steps of the dynamics\n",
    "star_001_ratioM = extract(path, x)\n",
    "\n",
    "#Statistic\n",
    "star_001_ratioM_mean = np.mean(star_001_ratioM, axis= 0)\n",
    "star_001_ratioM_std = np.std(star_001_ratioM, axis= 0)"
   ]
  },
  {
   "cell_type": "markdown",
   "metadata": {},
   "source": [
    "0.01%"
   ]
  },
  {
   "cell_type": "code",
   "execution_count": 17,
   "metadata": {},
   "outputs": [],
   "source": [
    "#Path to the asymmetric well-mixed configuration with 10% migration rate\n",
    "path = \"Unweighted/Amplifier/0.001\"\n",
    "\n",
    "x=40\n",
    "\n",
    "#Ratio of mutant in demes in the first x steps of the dynamics\n",
    "star_0001_ratioM = extract(path, x)\n",
    "\n",
    "#Statistic\n",
    "star_0001_ratioM_mean = np.mean(star_0001_ratioM, axis= 0)\n",
    "star_0001_ratioM_std = np.std(star_0001_ratioM, axis= 0)"
   ]
  },
  {
   "cell_type": "markdown",
   "metadata": {},
   "source": [
    "## Figure 2"
   ]
  },
  {
   "cell_type": "code",
   "execution_count": 21,
   "metadata": {},
   "outputs": [
    {
     "data": {
      "image/png": "[encoded data removed]",
      "text/plain": [
       "<Figure size 800x600 with 6 Axes>"
      ]
     },
     "metadata": {},
     "output_type": "display_data"
    }
   ],
   "source": [
    "fig, ax = plt.subplots(3,2,figsize= (8,6), sharey = True, sharex = True)\n",
    "\n",
    "ax[0, 0].errorbar(np.arange(0,x,1),star_30_ratioM_mean,star_30_ratioM_std, color='darkviolet', label='Star')\n",
    "ax[0, 0].errorbar(np.arange(0,x,1),well_mixed_30_ratioM_mean,well_mixed_30_ratioM_std, color='orange', label='WM')\n",
    "ax[0, 0].set_title('30% migration')\n",
    "\n",
    "ax[0, 1].errorbar(np.arange(0,x,1),star_20_ratioM_mean,star_20_ratioM_std, color='darkviolet')\n",
    "ax[0, 1].errorbar(np.arange(0,x,1),well_mixed_20_ratioM_mean,well_mixed_20_ratioM_std, color='orange')\n",
    "ax[0, 1].set_title('20% migration')\n",
    "\n",
    "ax[1, 0].errorbar(np.arange(0,x,1),star_10_ratioM_mean,star_10_ratioM_std, color='darkviolet')\n",
    "ax[1, 0].errorbar(np.arange(0,x,1),well_mixed_10_ratioM_mean,well_mixed_10_ratioM_std, color='orange')\n",
    "ax[1, 0].set_title('10% migration')\n",
    "\n",
    "ax[1, 1].errorbar(np.arange(0,x,1),star_1_ratioM_mean,star_1_ratioM_std, color='darkviolet')\n",
    "ax[1, 1].errorbar(np.arange(0,x,1),well_mixed_1_ratioM_mean,well_mixed_1_ratioM_std, color='orange')\n",
    "ax[1, 1].set_title('1% migration')\n",
    "\n",
    "ax[2, 0].errorbar(np.arange(0,x,1),star_001_ratioM_mean,star_001_ratioM_std, color='darkviolet')\n",
    "ax[2, 0].errorbar(np.arange(0,x,1),well_mixed_001_ratioM_mean,well_mixed_001_ratioM_std, color='orange')\n",
    "ax[2, 0].set_title('0.01% migration')\n",
    "\n",
    "ax[2, 1].errorbar(np.arange(0,x,1),star_0001_ratioM_mean,star_0001_ratioM_std, color='darkviolet')\n",
    "ax[2, 1].errorbar(np.arange(0,x,1),well_mixed_0001_ratioM_mean,well_mixed_0001_ratioM_std, color='orange')\n",
    "ax[2, 1].set_title('0.001% migration')\n",
    "    \n",
    "fig.tight_layout()\n",
    "\n",
    "fig.text(0.45,0, \"Dilution step\")\n",
    "fig.text(0,0.45, \"Mutant ratio\", rotation = 90)\n",
    "fig.legend()\n",
    "plt.show()"
   ]
  }
 ],
 "metadata": {
  "kernelspec": {
   "display_name": "Python 3 (ipykernel)",
   "language": "python",
   "name": "python3"
  },
  "language_info": {
   "codemirror_mode": {
    "name": "ipython",
    "version": 3
   },
   "file_extension": ".py",
   "mimetype": "text/x-python",
   "name": "python",
   "nbconvert_exporter": "python",
   "pygments_lexer": "ipython3",
   "version": "3.8.12"
  }
 },
 "nbformat": 4,
 "nbformat_minor": 2
}
