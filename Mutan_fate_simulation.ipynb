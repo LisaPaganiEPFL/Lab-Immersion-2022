{
 "cells": [
  {
   "cell_type": "code",
   "execution_count": 1,
   "metadata": {},
   "outputs": [],
   "source": [
    "from numba_code import *\n",
    "import matplotlib.pyplot as plt\n",
    "plt.style.use('default')"
   ]
  },
  {
   "cell_type": "markdown",
   "metadata": {},
   "source": [
    "# Mutant fate simulation\n",
    "We start with a star graph with 4 demes. Its state is tracked by an array containing the number of mutant and wild-type indivudals that are in each deme. \n",
    "The first entry describes the center (hub), the other describe the leaves.\n",
    "According to our implementation the second deme, which is one of the leaves, is the only one which contains mutant individuals at the beginning of the simulation.\n",
    "\n",
    "For instance, $[[0,100],[10,90],[0,100],[0,100]]$ means:\n",
    "- The center has one mutant and 100 wild-types.\n",
    "- The first leaf has 10 mutants and 90 wild-types.\n",
    "- The remaining leaves have only 100 wild-types."
   ]
  },
  {
   "cell_type": "markdown",
   "metadata": {},
   "source": [
    "## Unweighted amplifier"
   ]
  },
  {
   "cell_type": "markdown",
   "metadata": {},
   "source": [
    "In this section we are focusing on the unweighted amplifier configuration."
   ]
  },
  {
   "cell_type": "markdown",
   "metadata": {},
   "source": [
    "The graph structure and its migration rates are specified through function migration_matrix. For a star, we use function define_star which takes parameters $m_0$ (outgoing migration rate from the center) and $m_I$ (ingoing migration rate in the center). The option \"equal_contribution\" is True if for each deme $i$, $\\sum_j m_{ij}=1$ i.e. all demes contribute equally in average. It is False if for each deme $i$, $\\sum_j m_{ji}=1$ i.e. all demes receive the same contribution in average."
   ]
  },
  {
   "cell_type": "code",
   "execution_count": 2,
   "metadata": {},
   "outputs": [],
   "source": [
    "#Saving dynamics (option save_dynamics=True)\n",
    "save_folder='Unweighted/Amplifier/10'\n",
    "\n",
    "\n",
    "#Initial state of the graph\n",
    "in_numbers=np.array([[0.,1.5e7],[1.5e4,1.5e7],[0.,1.5e7],[0.,1.5e7]]).astype(np.int64)\n",
    "    \n",
    "#Parameters for the 10% migration, according to paper\n",
    "mI=(1e6/3)/(1e7+1e6)\n",
    "mO=1e6/(1e7+1e6)\n",
    "\n",
    "#Fitness and growth_rate (t), according to paper\n",
    "s=0.2\n",
    "fitnesses=np.array([1+s,1])\n",
    "t=np.log(100)\n",
    "\n",
    "nb_cycles=100\n",
    "nb_sim=100\n",
    "K=1.5e7\n",
    "N_demes=4\n",
    "\n",
    "#Migration matrix of the star\n",
    "migration_matrix=define_star(N_demes,mI,mO,equal_contribution=False)"
   ]
  },
  {
   "cell_type": "markdown",
   "metadata": {},
   "source": [
    "'fixation_probability' runs a number of simulations given by parameter 'nb_sim'. For each simulation, it starts with the initial state of the graph, and iterates cycles of growth / dilution, until the mutant is fixed or extinct.  The function returns three numbers :\n",
    "- the average extinction time (computed on trajectories that ended in extinction)\n",
    "- the average fixation time\n",
    "- the ratio of fixations, i.e. probability of fixation\n",
    "\n",
    "'fixation_probability' has an option 'save_dynamics'. If True, it saves the evolution of the state of the graph, for each simulation separately, into a folder specified as argument."
   ]
  },
  {
   "cell_type": "code",
   "execution_count": 3,
   "metadata": {
    "scrolled": true
   },
   "outputs": [
    {
     "name": "stdout",
     "output_type": "stream",
     "text": [
      "Fixation probability on 100 simulations is 1.0, with \n",
      " average extinction time 0 and \n",
      " average fixation time 29.54\n"
     ]
    }
   ],
   "source": [
    "#Fixation probability \n",
    "et, ft, fp = fixation_probability(in_numbers, save_folder, migration_matrix, fitnesses, nb_sim, nb_cycles, t, K, size_follow_numbers=100, print_frequency=1, save_dynamics=True)\n",
    "print(f'Fixation probability on {nb_sim} simulations is {fp}, with \\n average extinction time {et} and \\n average fixation time {ft}')"
   ]
  },
  {
   "cell_type": "code",
   "execution_count": 4,
   "metadata": {},
   "outputs": [
    {
     "name": "stdout",
     "output_type": "stream",
     "text": [
      "Fixation probability on 100 simulations is 1.0, with \n",
      " average extinction time 0 and \n",
      " average fixation time 28.78\n"
     ]
    }
   ],
   "source": [
    "#Saving dynamics (option save_dynamics=True)\n",
    "save_folder='Unweighted/Amplifier/20'\n",
    "\n",
    "#Parameters for the 10% migration, according to paper\n",
    "mI=(2e6/3)/(1e7+2e6)\n",
    "mO=2e6/(1e7+2e6)\n",
    "\n",
    "#Migration matrix of the star\n",
    "migration_matrix=define_star(N_demes,mI,mO,equal_contribution=False)\n",
    "\n",
    "#Fixation probability \n",
    "et, ft, fp = fixation_probability(in_numbers, save_folder, migration_matrix, fitnesses, nb_sim, nb_cycles, t, K, size_follow_numbers=100, print_frequency=1, save_dynamics=True)\n",
    "print(f'Fixation probability on {nb_sim} simulations is {fp}, with \\n average extinction time {et} and \\n average fixation time {ft}')"
   ]
  },
  {
   "cell_type": "code",
   "execution_count": 5,
   "metadata": {},
   "outputs": [
    {
     "name": "stdout",
     "output_type": "stream",
     "text": [
      "Fixation probability on 100 simulations is 1.0, with \n",
      " average extinction time 0 and \n",
      " average fixation time 28.67\n"
     ]
    }
   ],
   "source": [
    "#Saving dynamics (option save_dynamics=True)\n",
    "save_folder='Unweighted/Amplifier/30'\n",
    "\n",
    "#Parameters for the 10% migration, according to paper\n",
    "mI=(3e6/3)/(1e7+3e6)\n",
    "mO=3e6/(1e7+3e6)\n",
    "\n",
    "#Migration matrix of the star\n",
    "migration_matrix=define_star(N_demes,mI,mO,equal_contribution=False)\n",
    "\n",
    "#Fixation probability \n",
    "et, ft, fp = fixation_probability(in_numbers, save_folder, migration_matrix, fitnesses, nb_sim, nb_cycles, t, K, size_follow_numbers=100, print_frequency=1, save_dynamics=True)\n",
    "print(f'Fixation probability on {nb_sim} simulations is {fp}, with \\n average extinction time {et} and \\n average fixation time {ft}')"
   ]
  },
  {
   "cell_type": "code",
   "execution_count": 6,
   "metadata": {},
   "outputs": [
    {
     "name": "stdout",
     "output_type": "stream",
     "text": [
      "Fixation probability on 100 simulations is 1.0, with \n",
      " average extinction time 0 and \n",
      " average fixation time 32.82\n"
     ]
    }
   ],
   "source": [
    "#Saving dynamics (option save_dynamics=True)\n",
    "save_folder='Unweighted/Amplifier/1'\n",
    "\n",
    "#Parameters for the 10% migration, according to paper\n",
    "mI=(1e5/3)/(1e7+1e5)\n",
    "mO=1e5/(1e7+1e5)\n",
    "\n",
    "#Migration matrix of the star\n",
    "migration_matrix=define_star(N_demes,mI,mO,equal_contribution=False)\n",
    "\n",
    "#Fixation probability \n",
    "et, ft, fp = fixation_probability(in_numbers, save_folder, migration_matrix, fitnesses, nb_sim, nb_cycles, t, K, size_follow_numbers=100, print_frequency=1, save_dynamics=True)\n",
    "print(f'Fixation probability on {nb_sim} simulations is {fp}, with \\n average extinction time {et} and \\n average fixation time {ft}')"
   ]
  },
  {
   "cell_type": "code",
   "execution_count": 7,
   "metadata": {},
   "outputs": [
    {
     "name": "stdout",
     "output_type": "stream",
     "text": [
      "Fixation probability on 100 simulations is 1.0, with \n",
      " average extinction time 0 and \n",
      " average fixation time 42.71\n"
     ]
    }
   ],
   "source": [
    "#Saving dynamics (option save_dynamics=True)\n",
    "save_folder='Unweighted/Amplifier/0.01'\n",
    "\n",
    "#Parameters for the 10% migration, according to paper\n",
    "mI=(1e3/3)/(1e7+1e3)\n",
    "mO=1e3/(1e7+1e3)\n",
    "\n",
    "#Migration matrix of the star\n",
    "migration_matrix=define_star(N_demes,mI,mO,equal_contribution=False)\n",
    "\n",
    "#Fixation probability \n",
    "et, ft, fp = fixation_probability(in_numbers, save_folder, migration_matrix, fitnesses, nb_sim, nb_cycles, t, K, size_follow_numbers=100, print_frequency=1, save_dynamics=True)\n",
    "print(f'Fixation probability on {nb_sim} simulations is {fp}, with \\n average extinction time {et} and \\n average fixation time {ft}')"
   ]
  },
  {
   "cell_type": "code",
   "execution_count": 8,
   "metadata": {},
   "outputs": [
    {
     "name": "stdout",
     "output_type": "stream",
     "text": [
      "Fixation probability on 100 simulations is 1.0, with \n",
      " average extinction time 0 and \n",
      " average fixation time 47.82\n"
     ]
    }
   ],
   "source": [
    "#Saving dynamics (option save_dynamics=True)\n",
    "save_folder='Unweighted/Amplifier/0.001'\n",
    "\n",
    "#Parameters for the 10% migration, according to paper\n",
    "mI=(1e2/3)/(1e7+1e2)\n",
    "mO=1e2/(1e7+1e2)\n",
    "\n",
    "#Migration matrix of the star\n",
    "migration_matrix=define_star(N_demes,mI,mO,equal_contribution=False)\n",
    "\n",
    "#Fixation probability \n",
    "et, ft, fp = fixation_probability(in_numbers, save_folder, migration_matrix, fitnesses, nb_sim, nb_cycles, t, K, size_follow_numbers=100, print_frequency=1, save_dynamics=True)\n",
    "print(f'Fixation probability on {nb_sim} simulations is {fp}, with \\n average extinction time {et} and \\n average fixation time {ft}')"
   ]
  },
  {
   "cell_type": "markdown",
   "metadata": {},
   "source": [
    "## Unweighted well-mixed"
   ]
  },
  {
   "cell_type": "code",
   "execution_count": 2,
   "metadata": {},
   "outputs": [],
   "source": [
    "#Saving dynamics (option save_dynamics=True)\n",
    "save_folder='Unweighted/Well-mixed/10'\n",
    "\n",
    "\n",
    "#Initial state of the graph\n",
    "in_numbers=np.array([[0.,1.5e7],[1.5e4,1.5e7],[0.,1.5e7],[0.,1.5e7]]).astype(np.int64)\n",
    "    \n",
    "\n",
    "#Fitness and growth_rate (t), according to paper\n",
    "s=0.2\n",
    "fitnesses=np.array([1+s,1])\n",
    "t=np.log(100)\n",
    "\n",
    "nb_cycles=100\n",
    "nb_sim=100\n",
    "K=1.5e7\n",
    "N_demes=4\n",
    "\n",
    "\n",
    "#Parameters for the 10% migration, according to paper\n",
    "m=(1e6/4)/(1e7+1e6)\n",
    "\n",
    "#Migration matrix of the clique\n",
    "migration_matrix=define_clique(N_demes,m)"
   ]
  },
  {
   "cell_type": "code",
   "execution_count": 3,
   "metadata": {},
   "outputs": [
    {
     "name": "stdout",
     "output_type": "stream",
     "text": [
      "Fixation probability on 100 simulations is 1.0, with \n",
      " average extinction time 0 and \n",
      " average fixation time 28.89\n"
     ]
    }
   ],
   "source": [
    "#Fixation probability \n",
    "et, ft, fp = fixation_probability(in_numbers, save_folder, migration_matrix, fitnesses, nb_sim, nb_cycles, t, K, size_follow_numbers=100, print_frequency=1, save_dynamics=True)\n",
    "print(f'Fixation probability on {nb_sim} simulations is {fp}, with \\n average extinction time {et} and \\n average fixation time {ft}')"
   ]
  },
  {
   "cell_type": "code",
   "execution_count": 4,
   "metadata": {},
   "outputs": [
    {
     "name": "stdout",
     "output_type": "stream",
     "text": [
      "Fixation probability on 100 simulations is 1.0, with \n",
      " average extinction time 0 and \n",
      " average fixation time 28.37\n"
     ]
    }
   ],
   "source": [
    "#Saving dynamics (option save_dynamics=True)\n",
    "save_folder='Unweighted/Well-mixed/20'\n",
    "\n",
    "#Parameters for the 10% migration, according to paper\n",
    "m=(2e6/4)/(1e7+2e6)\n",
    "\n",
    "#Migration matrix of the clique\n",
    "migration_matrix=define_clique(N_demes,m)\n",
    "\n",
    "#Fixation probability \n",
    "et, ft, fp = fixation_probability(in_numbers, save_folder, migration_matrix, fitnesses, nb_sim, nb_cycles, t, K, size_follow_numbers=100, print_frequency=1, save_dynamics=True)\n",
    "print(f'Fixation probability on {nb_sim} simulations is {fp}, with \\n average extinction time {et} and \\n average fixation time {ft}')"
   ]
  },
  {
   "cell_type": "code",
   "execution_count": 5,
   "metadata": {},
   "outputs": [
    {
     "name": "stdout",
     "output_type": "stream",
     "text": [
      "Fixation probability on 100 simulations is 1.0, with \n",
      " average extinction time 0 and \n",
      " average fixation time 28.43\n"
     ]
    }
   ],
   "source": [
    "#Saving dynamics (option save_dynamics=True)\n",
    "save_folder='Unweighted/Well-mixed/30'\n",
    "\n",
    "#Parameters for the 10% migration, according to paper\n",
    "m=(3e6/4)/(1e7+3e6)\n",
    "\n",
    "#Migration matrix of the clique\n",
    "migration_matrix=define_clique(N_demes,m)\n",
    "\n",
    "#Fixation probability \n",
    "et, ft, fp = fixation_probability(in_numbers, save_folder, migration_matrix, fitnesses, nb_sim, nb_cycles, t, K, size_follow_numbers=100, print_frequency=1, save_dynamics=True)\n",
    "print(f'Fixation probability on {nb_sim} simulations is {fp}, with \\n average extinction time {et} and \\n average fixation time {ft}')"
   ]
  },
  {
   "cell_type": "code",
   "execution_count": 6,
   "metadata": {},
   "outputs": [
    {
     "name": "stdout",
     "output_type": "stream",
     "text": [
      "Fixation probability on 100 simulations is 1.0, with \n",
      " average extinction time 0 and \n",
      " average fixation time 30.77\n"
     ]
    }
   ],
   "source": [
    "#Saving dynamics (option save_dynamics=True)\n",
    "save_folder='Unweighted/Well-mixed/1'\n",
    "\n",
    "#Parameters for the 10% migration, according to paper\n",
    "m=(1e5/4)/(1e7+1e5)\n",
    "\n",
    "#Migration matrix of the clique\n",
    "migration_matrix=define_clique(N_demes,m)\n",
    "\n",
    "#Fixation probability \n",
    "et, ft, fp = fixation_probability(in_numbers, save_folder, migration_matrix, fitnesses, nb_sim, nb_cycles, t, K, size_follow_numbers=100, print_frequency=1, save_dynamics=True)\n",
    "print(f'Fixation probability on {nb_sim} simulations is {fp}, with \\n average extinction time {et} and \\n average fixation time {ft}')"
   ]
  },
  {
   "cell_type": "code",
   "execution_count": 7,
   "metadata": {},
   "outputs": [
    {
     "name": "stdout",
     "output_type": "stream",
     "text": [
      "Fixation probability on 100 simulations is 1.0, with \n",
      " average extinction time 0 and \n",
      " average fixation time 35.97\n"
     ]
    }
   ],
   "source": [
    "#Saving dynamics (option save_dynamics=True)\n",
    "save_folder='Unweighted/Well-mixed/0.01'\n",
    "\n",
    "#Parameters for the 10% migration, according to paper\n",
    "m=(1e3/4)/(1e7+1e3)\n",
    "\n",
    "#Migration matrix of the clique\n",
    "migration_matrix=define_clique(N_demes,m)\n",
    "\n",
    "#Fixation probability \n",
    "et, ft, fp = fixation_probability(in_numbers, save_folder, migration_matrix, fitnesses, nb_sim, nb_cycles, t, K, size_follow_numbers=100, print_frequency=1, save_dynamics=True)\n",
    "print(f'Fixation probability on {nb_sim} simulations is {fp}, with \\n average extinction time {et} and \\n average fixation time {ft}')"
   ]
  },
  {
   "cell_type": "code",
   "execution_count": 8,
   "metadata": {},
   "outputs": [
    {
     "name": "stdout",
     "output_type": "stream",
     "text": [
      "Fixation probability on 100 simulations is 1.0, with \n",
      " average extinction time 0 and \n",
      " average fixation time 38.59\n"
     ]
    }
   ],
   "source": [
    "#Saving dynamics (option save_dynamics=True)\n",
    "save_folder='Unweighted/Well-mixed/0.001'\n",
    "\n",
    "#Parameters for the 10% migration, according to paper\n",
    "m=(1e2/4)/(1e7+1e2)\n",
    "\n",
    "#Migration matrix of the clique\n",
    "migration_matrix=define_clique(N_demes,m)\n",
    "\n",
    "#Fixation probability \n",
    "et, ft, fp = fixation_probability(in_numbers, save_folder, migration_matrix, fitnesses, nb_sim, nb_cycles, t, K, size_follow_numbers=100, print_frequency=1, save_dynamics=True)\n",
    "print(f'Fixation probability on {nb_sim} simulations is {fp}, with \\n average extinction time {et} and \\n average fixation time {ft}')"
   ]
  },
  {
   "cell_type": "markdown",
   "metadata": {},
   "source": [
    "## Asymmetric well-mixed"
   ]
  },
  {
   "cell_type": "markdown",
   "metadata": {},
   "source": [
    "### 1) High migration rate"
   ]
  },
  {
   "cell_type": "code",
   "execution_count": 7,
   "metadata": {},
   "outputs": [],
   "source": [
    "#Saving dynamics (option save_dynamics=True)\n",
    "save_folder='Asymmetric/Well-mixed/High'\n",
    "\n",
    "#Parameters for the HIGH migration, according to paper\n",
    "m=1e5/(1e7+4e5)\n",
    "\n",
    "#Migration matrix of the clique\n",
    "migration_matrix=define_clique(N_demes,m)"
   ]
  },
  {
   "cell_type": "code",
   "execution_count": 8,
   "metadata": {},
   "outputs": [
    {
     "name": "stdout",
     "output_type": "stream",
     "text": [
      "Fixation probability on 100 simulations is 1.0, with \n",
      " average extinction time 0 and \n",
      " average fixation time 29.46\n"
     ]
    }
   ],
   "source": [
    "#Fixation probability \n",
    "et, ft, fp = fixation_probability(in_numbers, save_folder, migration_matrix, fitnesses, nb_sim, nb_cycles, t, K, size_follow_numbers=100, print_frequency=1, save_dynamics=True)\n",
    "print(f'Fixation probability on {nb_sim} simulations is {fp}, with \\n average extinction time {et} and \\n average fixation time {ft}')"
   ]
  },
  {
   "cell_type": "markdown",
   "metadata": {},
   "source": [
    "### 2) Low migration rate"
   ]
  },
  {
   "cell_type": "code",
   "execution_count": 3,
   "metadata": {},
   "outputs": [],
   "source": [
    "#Saving dynamics (option save_dynamics=True)\n",
    "save_folder='Asymmetric/Well-mixed/Low'\n",
    "\n",
    "#Parameters for the LOW migration, according to paper\n",
    "m=1e2/(1e7+4e2)\n",
    "\n",
    "#Migration matrix of the clique\n",
    "migration_matrix=define_clique(N_demes,m)"
   ]
  },
  {
   "cell_type": "code",
   "execution_count": 4,
   "metadata": {},
   "outputs": [
    {
     "name": "stdout",
     "output_type": "stream",
     "text": [
      "Fixation probability on 100 simulations is 1.0, with \n",
      " average extinction time 0 and \n",
      " average fixation time 36.84\n"
     ]
    }
   ],
   "source": [
    "#Fixation probability \n",
    "et, ft, fp = fixation_probability(in_numbers, save_folder, migration_matrix, fitnesses, nb_sim, nb_cycles, t, K, size_follow_numbers=100, print_frequency=1, save_dynamics=True)\n",
    "print(f'Fixation probability on {nb_sim} simulations is {fp}, with \\n average extinction time {et} and \\n average fixation time {ft}')"
   ]
  },
  {
   "cell_type": "markdown",
   "metadata": {},
   "source": [
    "## Asymmetric OUT > IN"
   ]
  },
  {
   "cell_type": "markdown",
   "metadata": {},
   "source": [
    "### 1) High migration rate"
   ]
  },
  {
   "cell_type": "code",
   "execution_count": 5,
   "metadata": {},
   "outputs": [],
   "source": [
    "#Saving dynamics (option save_dynamics=True)\n",
    "save_folder='Asymmetric/Out_in/High'\n",
    "\n",
    "#Parameters for the HIGH migration, according to paper\n",
    "mI=1e5/(1e7+3e5)\n",
    "mO=3e5/(1e7+3e5)\n",
    "\n",
    "\n",
    "#Migration matrix of the star\n",
    "migration_matrix=define_star(N_demes,mI,mO,equal_contribution=False)"
   ]
  },
  {
   "cell_type": "code",
   "execution_count": 6,
   "metadata": {},
   "outputs": [
    {
     "name": "stdout",
     "output_type": "stream",
     "text": [
      "Fixation probability on 100 simulations is 1.0, with \n",
      " average extinction time 0 and \n",
      " average fixation time 31.0\n"
     ]
    }
   ],
   "source": [
    "nb_sim=100\n",
    "#Fixation probability \n",
    "et, ft, fp = fixation_probability(in_numbers, save_folder, migration_matrix, fitnesses, nb_sim, nb_cycles, t, K, size_follow_numbers=100, print_frequency=1, save_dynamics=True)\n",
    "print(f'Fixation probability on {nb_sim} simulations is {fp}, with \\n average extinction time {et} and \\n average fixation time {ft}')"
   ]
  },
  {
   "cell_type": "markdown",
   "metadata": {},
   "source": [
    "### 2) Low migration rate"
   ]
  },
  {
   "cell_type": "code",
   "execution_count": 7,
   "metadata": {},
   "outputs": [],
   "source": [
    "#Saving dynamics (option save_dynamics=True)\n",
    "save_folder='Asymmetric/Out_in/Low'\n",
    "\n",
    "#Parameters for the LOW migration, according to paper\n",
    "mI=1e2/(1e7+3e2)\n",
    "mO=3e2/(1e7+3e2)\n",
    "\n",
    "#Migration matrix of the star\n",
    "migration_matrix=define_star(N_demes,mI,mO,equal_contribution=False)"
   ]
  },
  {
   "cell_type": "code",
   "execution_count": 8,
   "metadata": {},
   "outputs": [
    {
     "name": "stdout",
     "output_type": "stream",
     "text": [
      "Fixation probability on 100 simulations is 1.0, with \n",
      " average extinction time 0 and \n",
      " average fixation time 45.34\n"
     ]
    }
   ],
   "source": [
    "nb_sim=100\n",
    "#Fixation probability \n",
    "et, ft, fp = fixation_probability(in_numbers, save_folder, migration_matrix, fitnesses, nb_sim, nb_cycles, t, K, size_follow_numbers=100, print_frequency=1, save_dynamics=True)\n",
    "print(f'Fixation probability on {nb_sim} simulations is {fp}, with \\n average extinction time {et} and \\n average fixation time {ft}')"
   ]
  },
  {
   "cell_type": "markdown",
   "metadata": {},
   "source": [
    "## Asymmetric IN > OUT"
   ]
  },
  {
   "cell_type": "markdown",
   "metadata": {},
   "source": [
    "### 1) High migration rate"
   ]
  },
  {
   "cell_type": "code",
   "execution_count": 9,
   "metadata": {},
   "outputs": [],
   "source": [
    "#Saving dynamics (option save_dynamics=True)\n",
    "save_folder='Asymmetric/In_out/High'\n",
    "\n",
    "#Parameters for the HIGH migration, according to paper\n",
    "mI=3e5/(1e7+3e5)\n",
    "mO=1e5/(1e7+3e5)\n",
    "\n",
    "#Migration matrix of the star\n",
    "migration_matrix=define_star(N_demes,mI,mO,equal_contribution=True)"
   ]
  },
  {
   "cell_type": "code",
   "execution_count": 10,
   "metadata": {},
   "outputs": [
    {
     "name": "stdout",
     "output_type": "stream",
     "text": [
      "Fixation probability on 100 simulations is 1.0, with \n",
      " average extinction time 0 and \n",
      " average fixation time 31.5\n"
     ]
    }
   ],
   "source": [
    "nb_sim=100\n",
    "#Fixation probability \n",
    "et, ft, fp = fixation_probability(in_numbers, save_folder, migration_matrix, fitnesses, nb_sim, nb_cycles, t, K, size_follow_numbers=100, print_frequency=1, save_dynamics=True)\n",
    "print(f'Fixation probability on {nb_sim} simulations is {fp}, with \\n average extinction time {et} and \\n average fixation time {ft}')"
   ]
  },
  {
   "cell_type": "markdown",
   "metadata": {},
   "source": [
    "### 2) Low migration rate"
   ]
  },
  {
   "cell_type": "code",
   "execution_count": 11,
   "metadata": {},
   "outputs": [],
   "source": [
    "#Saving dynamics (option save_dynamics=True)\n",
    "save_folder='Asymmetric/In_out/Low'\n",
    "\n",
    "#Parameters for the LOW migration, according to paper\n",
    "mI=3e2/(1e7+3e2)\n",
    "mO=1e2/(1e7+3e2)\n",
    "\n",
    "#Migration matrix of the star\n",
    "migration_matrix=define_star(N_demes,mI,mO,equal_contribution=True)"
   ]
  },
  {
   "cell_type": "code",
   "execution_count": 12,
   "metadata": {},
   "outputs": [
    {
     "name": "stdout",
     "output_type": "stream",
     "text": [
      "Fixation probability on 100 simulations is 1.0, with \n",
      " average extinction time 0 and \n",
      " average fixation time 45.58\n"
     ]
    }
   ],
   "source": [
    "nb_sim=100\n",
    "#Fixation probability \n",
    "et, ft, fp = fixation_probability(in_numbers, save_folder, migration_matrix, fitnesses, nb_sim, nb_cycles, t, K, size_follow_numbers=100, print_frequency=1, save_dynamics=True)\n",
    "print(f'Fixation probability on {nb_sim} simulations is {fp}, with \\n average extinction time {et} and \\n average fixation time {ft}')"
   ]
  },
  {
   "cell_type": "markdown",
   "metadata": {},
   "source": [
    "# Example with saved dynamics\n",
    "When option 'save_dynamics' is True, we specify the number of bottleneck states we want to save by parameter 'size_follow_numbers', and the frequency by 'print_frequency'.\n",
    "\n",
    "Example: if we want to save the first 500 steps, size_follow_numbers=500, print_frequency=1."
   ]
  },
  {
   "cell_type": "markdown",
   "metadata": {},
   "source": [
    "## Extracting saved dynamics"
   ]
  },
  {
   "cell_type": "markdown",
   "metadata": {},
   "source": [
    "Folder 'Saved_dynamics' contains fixation trajectories up till the 1000th step, labeled as 'fix', and extinction trajectories labeled as 'ex'. "
   ]
  },
  {
   "cell_type": "code",
   "execution_count": 9,
   "metadata": {},
   "outputs": [
    {
     "name": "stdout",
     "output_type": "stream",
     "text": [
      "Graph state after one cycle of growth/dilution: \n",
      " [[  4 124]\n",
      " [  0  93]\n",
      " [105   1]\n",
      " [  0  95]\n",
      " [  0 105]]\n",
      "Graph state after 100 cycles of growth/dilution: \n",
      " [[  4  99]\n",
      " [  0 101]\n",
      " [ 40  41]\n",
      " [  0  96]\n",
      " [ 18  81]]\n",
      "Graph state after 500 cycles of growth/dilution: \n",
      " [[ 35  82]\n",
      " [ 32  50]\n",
      " [  2 108]\n",
      " [ 68  20]\n",
      " [ 51  47]]\n"
     ]
    }
   ],
   "source": [
    "#Upload one trajectory, gives an numpy array\n",
    "fix1 = np.load(\"Saved_dynamics/fix_1.npz\")['arr_0']\n",
    "\n",
    "#Print elements of the array\n",
    "print('Graph state after one cycle of growth/dilution: \\n', fix1[0])\n",
    "print('Graph state after 100 cycles of growth/dilution: \\n', fix1[99])\n",
    "print('Graph state after 500 cycles of growth/dilution: \\n', fix1[499])"
   ]
  },
  {
   "cell_type": "code",
   "execution_count": 10,
   "metadata": {},
   "outputs": [],
   "source": [
    "#Number of mutants in deme 0 (i.e. center) in the first 500 steps of the dynamics\n",
    "center_mutant=fix1[:500,0,0]\n",
    "\n",
    "#Number of wild-types in deme 0 (i.e. center) in the first 500 steps of the dynamics\n",
    "center_WT=fix1[:500,0,1]\n",
    "\n",
    "#Ratio of mutant in deme 0 (center) in the first 500 steps of the dynamics\n",
    "center_ratioM=center_mutant/(center_WT+center_mutant)"
   ]
  },
  {
   "cell_type": "code",
   "execution_count": null,
   "metadata": {},
   "outputs": [],
   "source": [
    "#Saving dynamics (option save_dynamics=True)\n",
    "save_folder='Saved_dynamics'\n",
    "\n",
    "\n",
    "#Initial state of the graph\n",
    "in_numbers=np.array([[0.,1.5e7],[1.5e4,1.5e7],[0.,1.5e7],[0.,1.5e7]]).astype(np.int64)\n",
    "    \n",
    "#Parameters\n",
    "mO=0.01\n",
    "mI=0.04\n",
    "s=0.02\n",
    "fitnesses=np.array([1+s,1])\n",
    "nb_cycles=1000\n",
    "nb_sim=500\n",
    "t=5\n",
    "K=1.5e7\n",
    "N_demes=4\n",
    "migration_matrix=define_star(N_demes,mI,mO)\n",
    "et, ft, fp = fixation_probability(in_numbers, save_folder, migration_matrix, fitnesses, nb_sim, nb_cycles, t, K, size_follow_numbers=1000, print_frequency=1, save_dynamics=True)"
   ]
  },
  {
   "cell_type": "code",
   "execution_count": 11,
   "metadata": {},
   "outputs": [],
   "source": [
    "#Ratio of mutant in leaf 2, that is initially all mutant ?? wild-type\n",
    "leaf2_mutant=fix1[:500,2,0]\n",
    "leaf2_WT=fix1[:500,2,1]\n",
    "leaf2_ratioM=leaf2_mutant/(leaf2_WT+leaf2_mutant)"
   ]
  },
  {
   "cell_type": "code",
   "execution_count": 12,
   "metadata": {},
   "outputs": [
    {
     "data": {
      "text/plain": [
       "<matplotlib.legend.Legend at 0x22d90ba1cd0>"
      ]
     },
     "execution_count": 12,
     "metadata": {},
     "output_type": "execute_result"
    },
    {
     "data": {
      "image/png": "[encoded data removed]",
      "text/plain": [
       "<Figure size 640x480 with 1 Axes>"
      ]
     },
     "metadata": {},
     "output_type": "display_data"
    }
   ],
   "source": [
    "#Evolution of the ratio of mutants in the center\n",
    "plt.plot(np.arange(0,500,1),center_ratioM, color='royalblue', label='center')\n",
    "plt.plot(np.arange(0,500,1),leaf2_ratioM, color='lightblue', label='start leaf')\n",
    "plt.ylabel('mutant ratio')\n",
    "plt.xlabel('dilution step')\n",
    "plt.title('Star with $s=0.001$, $m_O=0.01$, $m_I=0.04$, \\n $K=100$ equal contribution')\n",
    "plt.legend()"
   ]
  },
  {
   "cell_type": "code",
   "execution_count": null,
   "metadata": {},
   "outputs": [],
   "source": []
  }
 ],
 "metadata": {
  "kernelspec": {
   "display_name": "Python 3 (ipykernel)",
   "language": "python",
   "name": "python3"
  },
  "language_info": {
   "codemirror_mode": {
    "name": "ipython",
    "version": 3
   },
   "file_extension": ".py",
   "mimetype": "text/x-python",
   "name": "python",
   "nbconvert_exporter": "python",
   "pygments_lexer": "ipython3",
   "version": "3.8.12"
  }
 },
 "nbformat": 4,
 "nbformat_minor": 2
}
